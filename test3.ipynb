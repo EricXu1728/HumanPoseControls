{
 "cells": [
  {
   "cell_type": "code",
   "execution_count": 4,
   "id": "23a1f377",
   "metadata": {},
   "outputs": [
    {
     "ename": "",
     "evalue": "",
     "output_type": "error",
     "traceback": [
      "\u001b[1;31mThe Kernel crashed while executing code in the current cell or a previous cell. \n",
      "\u001b[1;31mPlease review the code in the cell(s) to identify a possible cause of the failure. \n",
      "\u001b[1;31mClick <a href='https://aka.ms/vscodeJupyterKernelCrash'>here</a> for more info. \n",
      "\u001b[1;31mView Jupyter <a href='command:jupyter.viewOutput'>log</a> for further details."
     ]
    }
   ],
   "source": [
    "import cv2\n",
    "import numpy as np\n",
    "from ultralytics import YOLO\n",
    "\n",
    "# Load YOLOv11 pose model\n",
    "model = YOLO(\"yolo11n-pose.pt\")\n",
    "\n",
    "# Open both webcams\n",
    "cap1 = cv2.VideoCapture(0)\n",
    "cap2 = cv2.VideoCapture(1)\n",
    "\n",
    "if not cap1.isOpened() or not cap2.isOpened():\n",
    "    print(\"Error: Cannot open one or both cameras.\")\n",
    "    exit()\n",
    "\n",
    "# Assumed intrinsic matrix (same for both cameras)\n",
    "K = np.array([[800, 0, 320],\n",
    "              [0, 800, 240],\n",
    "              [0,   0,   1]])\n",
    "\n",
    "# Projection matrix for cam1 (origin)\n",
    "P1 = K @ np.hstack((np.eye(3), np.zeros((3, 1))))\n",
    "\n",
    "# Projection matrix for cam2 (baseline 20cm along x-axis)\n",
    "baseline = 0.2  # meters\n",
    "R = np.eye(3)\n",
    "T = np.array([[baseline], [0], [0]])\n",
    "P2 = K @ np.hstack((R, -T))  # Note the minus sign\n",
    "\n",
    "# Main loop\n",
    "while True:\n",
    "    ret1, frame1 = cap1.read()\n",
    "    ret2, frame2 = cap2.read()\n",
    "    if not ret1 or not ret2:\n",
    "        print(\"Error reading frames.\")\n",
    "        break\n",
    "\n",
    "    # Detect keypoints\n",
    "    results1 = model(frame1)\n",
    "    results2 = model(frame2)\n",
    "\n",
    "    # Extract keypoints (only first detected person assumed)\n",
    "    keypoints1 = results1[0].keypoints.xy.cpu().numpy() if results1[0].keypoints else []\n",
    "    keypoints2 = results2[0].keypoints.xy.cpu().numpy() if results2[0].keypoints else []\n",
    "\n",
    "    if len(keypoints1) > 0 and len(keypoints2) > 0:\n",
    "        pts1 = keypoints1[0].T  # shape: (2, N)\n",
    "        pts2 = keypoints2[0].T  # shape: (2, N)\n",
    "\n",
    "        if pts1.shape[1] == pts2.shape[1]:\n",
    "            pts_4d = cv2.triangulatePoints(P1, P2, pts1, pts2)\n",
    "            pts_3d = (pts_4d[:3] / pts_4d[3]).T  # shape: (N, 3)\n",
    "\n",
    "            # Print or process 3D points\n",
    "            for i, point in enumerate(pts_3d):\n",
    "                print(f\"3D Keypoint {i}: {point}\")\n",
    "\n",
    "    # Show annotated frames\n",
    "    annotated1 = results1[0].plot()\n",
    "    annotated2 = results2[0].plot()\n",
    "    cv2.imshow(\"Cam1\", annotated1)\n",
    "    cv2.imshow(\"Cam2\", annotated2)\n",
    "\n",
    "    if cv2.waitKey(1) & 0xFF == ord('q'):\n",
    "        break\n",
    "\n",
    "# Cleanup\n",
    "cap1.release()\n",
    "cap2.release()\n",
    "cv2.destroyAllWindows()\n"
   ]
  }
 ],
 "metadata": {
  "kernelspec": {
   "display_name": "base",
   "language": "python",
   "name": "python3"
  },
  "language_info": {
   "codemirror_mode": {
    "name": "ipython",
    "version": 3
   },
   "file_extension": ".py",
   "mimetype": "text/x-python",
   "name": "python",
   "nbconvert_exporter": "python",
   "pygments_lexer": "ipython3",
   "version": "3.9.13"
  }
 },
 "nbformat": 4,
 "nbformat_minor": 5
}
