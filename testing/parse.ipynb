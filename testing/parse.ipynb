{
 "cells": [
  {
   "cell_type": "code",
   "execution_count": 1,
   "id": "cd57a7fa",
   "metadata": {},
   "outputs": [
    {
     "name": "stdout",
     "output_type": "stream",
     "text": [
      "Average YOLO processing time: 13.17 ms\n",
      "Average delay between YOLO and Godot: 50.09 ms\n"
     ]
    }
   ],
   "source": [
    "import re\n",
    "from statistics import mean\n",
    "\n",
    "import re\n",
    "from statistics import mean\n",
    "\n",
    "# Read logs from files\n",
    "with open(\"yolo.txt\", \"r\") as f:\n",
    "    yolo_log = f.read()\n",
    "\n",
    "with open(\"godot.txt\", \"r\") as f:\n",
    "    godot_log = f.read()\n",
    "\n",
    "\n",
    "# --- Parse YOLO log ---\n",
    "\n",
    "yolo_pattern = re.compile(\n",
    "    r\"Speed: ([\\d.]+)ms preprocess, ([\\d.]+)ms inference, ([\\d.]+)ms postprocess.*?\\[Frame (\\d+)\\] Timestamp: ([\\d.]+)\",\n",
    "    re.DOTALL\n",
    ")\n",
    "\n",
    "yolo_data = []\n",
    "for match in yolo_pattern.finditer(yolo_log):\n",
    "    preprocess, inference, postprocess, frame_num, timestamp = match.groups()\n",
    "    total_time = float(preprocess) + float(inference) + float(postprocess)\n",
    "    yolo_data.append((int(frame_num), float(timestamp), total_time))\n",
    "\n",
    "# --- Parse Godot log ---\n",
    "godot_pattern = re.compile(r\"Parsed pose #(\\d+) at (\\d+) ms\")\n",
    "godot_data = [(int(idx), int(ts)) for idx, ts in godot_pattern.findall(godot_log)]\n",
    "\n",
    "# --- Match frames and calculate delays ---\n",
    "delays = []\n",
    "matched_times = []\n",
    "\n",
    "# Just for simplicity, assume matching is index-based\n",
    "# In real use, you'd sync frame number or timestamp better\n",
    "for i, (idx, godot_ts_ms) in enumerate(godot_data):\n",
    "    if i >= len(yolo_data):\n",
    "        break\n",
    "    frame_num, yolo_ts_sec, yolo_total_time = yolo_data[i]\n",
    "    godot_ts_sec = godot_ts_ms / 1000.0\n",
    "    delay = godot_ts_sec - yolo_ts_sec\n",
    "    delays.append(delay)\n",
    "    matched_times.append(yolo_total_time)\n",
    "\n",
    "# --- Results ---\n",
    "print(f\"Average YOLO processing time: {mean(matched_times):.2f} ms\")\n",
    "print(f\"Average delay between YOLO and Godot: {mean(delays)*1000:.2f} ms\")\n"
   ]
  }
 ],
 "metadata": {
  "kernelspec": {
   "display_name": "base",
   "language": "python",
   "name": "python3"
  },
  "language_info": {
   "codemirror_mode": {
    "name": "ipython",
    "version": 3
   },
   "file_extension": ".py",
   "mimetype": "text/x-python",
   "name": "python",
   "nbconvert_exporter": "python",
   "pygments_lexer": "ipython3",
   "version": "3.9.13"
  }
 },
 "nbformat": 4,
 "nbformat_minor": 5
}
